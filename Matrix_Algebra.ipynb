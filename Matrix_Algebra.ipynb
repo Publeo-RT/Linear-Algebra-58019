{
  "nbformat": 4,
  "nbformat_minor": 0,
  "metadata": {
    "colab": {
      "name": "Matrix Algebra",
      "provenance": [],
      "authorship_tag": "ABX9TyP+EQin50ytDKS04Z8hwUTF",
      "include_colab_link": true
    },
    "kernelspec": {
      "name": "python3",
      "display_name": "Python 3"
    },
    "language_info": {
      "name": "python"
    }
  },
  "cells": [
    {
      "cell_type": "markdown",
      "metadata": {
        "id": "view-in-github",
        "colab_type": "text"
      },
      "source": [
        "<a href=\"https://colab.research.google.com/github/Sev-RyanLeo/Linear-Algebra-58019/blob/main/Matrix_Algebra.ipynb\" target=\"_parent\"><img src=\"https://colab.research.google.com/assets/colab-badge.svg\" alt=\"Open In Colab\"/></a>"
      ]
    },
    {
      "cell_type": "markdown",
      "metadata": {
        "id": "UX0hO-0w0KB5"
      },
      "source": [
        "#Python program to inverse"
      ]
    },
    {
      "cell_type": "code",
      "metadata": {
        "colab": {
          "base_uri": "https://localhost:8080/"
        },
        "id": "wbvCgaIQ0ES6",
        "outputId": "cbd5966b-4598-4531-fd77-346910648874"
      },
      "source": [
        "import numpy as np\n",
        "from numpy.linalg import inv\n",
        "M=np.array([[1,2],[4,7]])\n",
        "invM=np.linalg.inv(M)\n",
        "print(invM)"
      ],
      "execution_count": 55,
      "outputs": [
        {
          "output_type": "stream",
          "name": "stdout",
          "text": [
            "[[-7.  2.]\n",
            " [ 4. -1.]]\n"
          ]
        }
      ]
    },
    {
      "cell_type": "code",
      "metadata": {
        "id": "KeeA0D480yvl",
        "colab": {
          "base_uri": "https://localhost:8080/"
        },
        "outputId": "8fae9790-b4df-4ec6-80f4-76faf87d6200"
      },
      "source": [
        "C=np.dot(M,invM)\n",
        "print(C)"
      ],
      "execution_count": 56,
      "outputs": [
        {
          "output_type": "stream",
          "name": "stdout",
          "text": [
            "[[1. 0.]\n",
            " [0. 1.]]\n"
          ]
        }
      ]
    },
    {
      "cell_type": "code",
      "metadata": {
        "colab": {
          "base_uri": "https://localhost:8080/"
        },
        "id": "cz_UpUn14rJU",
        "outputId": "41a67b27-e358-46b9-dd4b-70b3acfce511"
      },
      "source": [
        "##Python Program to tranpose a 3x3 Matrix A=([6,1,1],[4,-2,5],[2,8,7])\n",
        "Emis=np.array([[6,1,1],[4,-2,5],[2,8,7]])\n",
        "print(Emis)\n",
        "Artis=np.transpose(Emis)\n",
        "print(Artis)"
      ],
      "execution_count": 44,
      "outputs": [
        {
          "output_type": "stream",
          "name": "stdout",
          "text": [
            "[[ 6  1  1]\n",
            " [ 4 -2  5]\n",
            " [ 2  8  7]]\n",
            "[[ 6  4  2]\n",
            " [ 1 -2  8]\n",
            " [ 1  5  7]]\n"
          ]
        }
      ]
    },
    {
      "cell_type": "code",
      "metadata": {
        "colab": {
          "base_uri": "https://localhost:8080/"
        },
        "id": "33oHRJ6z6hlS",
        "outputId": "7fecd157-e500-4254-dd6b-ec0a6e3c81b9"
      },
      "source": [
        "#Python Program to inverse a 3x3 Matrix A=([6,1,1],[4,-2,5],[2,8,7])\n",
        "x=np.array([[6,1,1],[4,-2,5],[2,8,7]])\n",
        "y=np.linalg.inv(x)\n",
        "print(invArf)"
      ],
      "execution_count": 51,
      "outputs": [
        {
          "output_type": "stream",
          "name": "stdout",
          "text": [
            "[[ 0.17647059 -0.00326797 -0.02287582]\n",
            " [ 0.05882353 -0.13071895  0.08496732]\n",
            " [-0.11764706  0.1503268   0.05228758]]\n"
          ]
        }
      ]
    },
    {
      "cell_type": "code",
      "metadata": {
        "colab": {
          "base_uri": "https://localhost:8080/"
        },
        "id": "sv9T0AEu7XyT",
        "outputId": "63e0d1d8-5738-4673-9339-e9d5555bf214"
      },
      "source": [
        "#Dot Product of Arf and invArf\n",
        "z=np.dot(x,y)\n",
        "print(z)"
      ],
      "execution_count": 52,
      "outputs": [
        {
          "output_type": "stream",
          "name": "stdout",
          "text": [
            "[[ 1.00000000e+00  0.00000000e+00  2.77555756e-17]\n",
            " [-1.38777878e-17  1.00000000e+00  1.38777878e-17]\n",
            " [-4.16333634e-17  1.38777878e-16  1.00000000e+00]]\n"
          ]
        }
      ]
    },
    {
      "cell_type": "markdown",
      "metadata": {
        "id": "SL0t8naBAGfA"
      },
      "source": [
        "#Python Exercise 3"
      ]
    },
    {
      "cell_type": "code",
      "metadata": {
        "colab": {
          "base_uri": "https://localhost:8080/"
        },
        "id": "EBr2f-lCAPcD",
        "outputId": "5eafb00f-73bc-4bf5-e8ac-a81b78c25b04"
      },
      "source": [
        "import numpy as np                                        #importing of library \n",
        "A=np.array([[6,1,1,3],[4,-2,5,1],[2,8,7,6],[3,1,9,7]])    #defining or array\n",
        "B=np.linalg.inv(A)                                        #inversing of array\n",
        "print(B)                                                  #print of inversed\n"
      ],
      "execution_count": 59,
      "outputs": [
        {
          "output_type": "stream",
          "name": "stdout",
          "text": [
            "[[ 0.13368984  0.10695187  0.02139037 -0.09090909]\n",
            " [-0.00229183  0.02673797  0.14820474 -0.12987013]\n",
            " [-0.12987013  0.18181818  0.06493506 -0.02597403]\n",
            " [ 0.11000764 -0.28342246 -0.11382735  0.23376623]]\n"
          ]
        }
      ]
    },
    {
      "cell_type": "code",
      "metadata": {
        "colab": {
          "base_uri": "https://localhost:8080/"
        },
        "id": "_91OdHQ7BgK-",
        "outputId": "f7320e56-1ac3-4b56-941b-1c41613a9609"
      },
      "source": [
        "C=np.transpose(A)     #transposing array\n",
        "print(C)              #printing transposed array"
      ],
      "execution_count": 60,
      "outputs": [
        {
          "output_type": "stream",
          "name": "stdout",
          "text": [
            "[[ 6  4  2  3]\n",
            " [ 1 -2  8  1]\n",
            " [ 1  5  7  9]\n",
            " [ 3  1  6  7]]\n"
          ]
        }
      ]
    }
  ]
}