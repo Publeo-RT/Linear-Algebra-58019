{
  "nbformat": 4,
  "nbformat_minor": 0,
  "metadata": {
    "colab": {
      "name": "Final Exam.ipynb",
      "provenance": [],
      "authorship_tag": "ABX9TyMeJpUfpn4dKH62GkppzLEG",
      "include_colab_link": true
    },
    "kernelspec": {
      "name": "python3",
      "display_name": "Python 3"
    },
    "language_info": {
      "name": "python"
    }
  },
  "cells": [
    {
      "cell_type": "markdown",
      "metadata": {
        "id": "view-in-github",
        "colab_type": "text"
      },
      "source": [
        "<a href=\"https://colab.research.google.com/github/Sev-RyanLeo/Linear-Algebra-58019/blob/main/Final_Exam.ipynb\" target=\"_parent\"><img src=\"https://colab.research.google.com/assets/colab-badge.svg\" alt=\"Open In Colab\"/></a>"
      ]
    },
    {
      "cell_type": "markdown",
      "source": [
        "#Final Exam\n",
        "\n"
      ],
      "metadata": {
        "id": "9RP8FGTKPF2P"
      }
    },
    {
      "cell_type": "markdown",
      "source": [
        "Problem 1. Student A, Student B, and Student C have a total of Php 89 cash in their banks. Student A has 6 less than Student C. Student B has 3 times what Student C has. How much does each student have? (30 points)"
      ],
      "metadata": {
        "id": "XE_CwrFPPqSy"
      }
    },
    {
      "cell_type": "code",
      "execution_count": 5,
      "metadata": {
        "colab": {
          "base_uri": "https://localhost:8080/"
        },
        "id": "vA9OcXwoOrat",
        "outputId": "18e7223a-c888-4b06-952c-5efe01023943"
      },
      "outputs": [
        {
          "output_type": "stream",
          "name": "stdout",
          "text": [
            "[[1 1 1]\n",
            " [1 0 4]\n",
            " [0 0 5]]\n",
            "[[89]\n",
            " [89]\n",
            " [95]]\n",
            "\n",
            " \n",
            "Values of  A,B,C respectively\n",
            "[[13.]\n",
            " [57.]\n",
            " [19.]]\n",
            "\n",
            " Checking... \n",
            " [[89.]\n",
            " [89.]\n",
            " [95.]]\n"
          ]
        }
      ],
      "source": [
        "import numpy as np                                #importing appropriate library to be used\n",
        "P1=np.array([[1,1,1],[1,0,4],[0,0,5]])            #creating the array and values setting based on coeffecients\n",
        "print(P1)                                         #printing of array\n",
        "\n",
        "\n",
        "\n",
        "P1A=np.array([[89],[89],[95]])                    #creating the array and values setting based on constants\n",
        "print(P1A)                                        #print array  \n",
        "Roots=np.linalg.inv(P1).dot(P1A)                  #getting roots through dot product of acquire values  \n",
        "print(\"\\n \\nValues of  A,B,C respectively\")       #printing label\n",
        "print(Roots)                                      #printing roots\n",
        "\n",
        "#to check if answer is correct\n",
        "Z=np.dot(P1,Roots)                                #checking legitimacy of acquired values\n",
        "print(\"\\n Checking... \\n\",Z)                      #printing validation proof"
      ]
    },
    {
      "cell_type": "markdown",
      "source": [
        "Problem 2. Solve each system: (30 points)\n",
        "\n",
        "3x - y + z = 5\n",
        "\n",
        "9x - 3y +3z = 15\n",
        "\n",
        "-12x +4y -4z = -20 \n",
        "\n",
        "A non-invertible matrix is known as a singular matrix. This indicates that the system of equations trying to be solved lacks a unique solution, which linalg.solve can't handle. Singularity will happen if duplicate columns have a correlation value of 1.0. The given has common coeffecients ([[3,-1,1],[9,-3,3],[-12,4,-4]]) of 3, resulting into singularity error when inversing\n",
        "\n"
      ],
      "metadata": {
        "id": "y2k0kn5kQ0h9"
      }
    },
    {
      "cell_type": "code",
      "source": [
        "import numpy as np\n",
        "Z = np.array([[8,5,-6],[-12,-9,12],[-3,-3,5]])\n",
        "print(Z,\"\\n\")\n",
        "d,c = np.linalg.eig(Z)\n",
        "print(\"Eigenvalues:\",d,\"\\n\")\n",
        "print(\"Eigenvectors :\",\"\\n\",c.round())\n",
        "\n",
        "\n"
      ],
      "metadata": {
        "colab": {
          "base_uri": "https://localhost:8080/"
        },
        "id": "I72U22b6RgCo",
        "outputId": "a1f28741-0214-41d8-d760-3646bc0fd86e"
      },
      "execution_count": 25,
      "outputs": [
        {
          "output_type": "stream",
          "name": "stdout",
          "text": [
            "[[  8   5  -6]\n",
            " [-12  -9  12]\n",
            " [ -3  -3   5]] \n",
            "\n",
            "Eigenvalues: [-1.  3.  2.] \n",
            "\n",
            "Eigenvectors : \n",
            " [[ 0. -1.  1.]\n",
            " [-1.  1.  0.]\n",
            " [-0. -0.  1.]]\n"
          ]
        }
      ]
    }
  ]
}