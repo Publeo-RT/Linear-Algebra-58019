{
  "nbformat": 4,
  "nbformat_minor": 0,
  "metadata": {
    "colab": {
      "name": "Application.ipynb",
      "provenance": [],
      "collapsed_sections": [],
      "authorship_tag": "ABX9TyMDn0bwi0kaO/tNE+SA2C3M",
      "include_colab_link": true
    },
    "kernelspec": {
      "name": "python3",
      "display_name": "Python 3"
    },
    "language_info": {
      "name": "python"
    }
  },
  "cells": [
    {
      "cell_type": "markdown",
      "metadata": {
        "id": "view-in-github",
        "colab_type": "text"
      },
      "source": [
        "<a href=\"https://colab.research.google.com/github/Sev-RyanLeo/Linear-Algebra-58019/blob/main/Application.ipynb\" target=\"_parent\"><img src=\"https://colab.research.google.com/assets/colab-badge.svg\" alt=\"Open In Colab\"/></a>"
      ]
    },
    {
      "cell_type": "markdown",
      "metadata": {
        "id": "6ymUn3z7OO06"
      },
      "source": [
        "November 17"
      ]
    },
    {
      "cell_type": "code",
      "metadata": {
        "colab": {
          "base_uri": "https://localhost:8080/"
        },
        "id": "WDxv0XZ2MLG9",
        "outputId": "e3daa7d7-93ab-407e-fda4-08443ca24fca"
      },
      "source": [
        "import numpy as np\n",
        "A=np.array([[4,3,2],[-2,2,3],[3,-5,2]])\n",
        "B=np.array([[25],[-10],[-4]])\n",
        "print(A,\"\\n \\n\",B)\n",
        "\n",
        "x=np.linalg.solve(A,B)\n",
        "\n",
        "print(\"\\n Answer: \\n\",x)"
      ],
      "execution_count": 8,
      "outputs": [
        {
          "output_type": "stream",
          "name": "stdout",
          "text": [
            "[[ 4  3  2]\n",
            " [-2  2  3]\n",
            " [ 3 -5  2]] \n",
            " \n",
            " [[ 25]\n",
            " [-10]\n",
            " [ -4]]\n",
            "\n",
            " Answer: \n",
            " [[ 5.]\n",
            " [ 3.]\n",
            " [-2.]]\n"
          ]
        }
      ]
    },
    {
      "cell_type": "markdown",
      "metadata": {
        "id": "Ou68gj8MNl_U"
      },
      "source": [
        "**using scipy.linalg**"
      ]
    },
    {
      "cell_type": "code",
      "metadata": {
        "colab": {
          "base_uri": "https://localhost:8080/"
        },
        "id": "FCnRSUisNO-7",
        "outputId": "93eb9c48-18e0-4407-d754-72987016f619"
      },
      "source": [
        "import numpy as np\n",
        "from scipy.linalg import solve\n",
        "A=np.array([[4,3,2],[-2,2,3],[3,-5,2]])\n",
        "B=np.array([[25],[-10],[-4]])\n",
        "print(A,\"\\n \\n\",B)\n",
        "\n",
        "x=solve(A,B)\n",
        "\n",
        "print(\"\\n Answer: \\n\",x)"
      ],
      "execution_count": 11,
      "outputs": [
        {
          "output_type": "stream",
          "name": "stdout",
          "text": [
            "[[ 4  3  2]\n",
            " [-2  2  3]\n",
            " [ 3 -5  2]] \n",
            " \n",
            " [[ 25]\n",
            " [-10]\n",
            " [ -4]]\n",
            "\n",
            " Answer: \n",
            " [[ 5.]\n",
            " [ 3.]\n",
            " [-2.]]\n"
          ]
        }
      ]
    },
    {
      "cell_type": "code",
      "metadata": {
        "id": "6N_AMU7CN22Z"
      },
      "source": [
        ""
      ],
      "execution_count": null,
      "outputs": []
    }
  ]
}