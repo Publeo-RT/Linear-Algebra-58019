{
  "nbformat": 4,
  "nbformat_minor": 0,
  "metadata": {
    "colab": {
      "name": "Practical Lab Exam 1",
      "provenance": [],
      "authorship_tag": "ABX9TyO7nFBI8j5UULcembZKv/2p",
      "include_colab_link": true
    },
    "kernelspec": {
      "name": "python3",
      "display_name": "Python 3"
    },
    "language_info": {
      "name": "python"
    }
  },
  "cells": [
    {
      "cell_type": "markdown",
      "metadata": {
        "id": "view-in-github",
        "colab_type": "text"
      },
      "source": [
        "<a href=\"https://colab.research.google.com/github/Sev-RyanLeo/Linear-Algebra-58019/blob/main/Practical_Lab_Exam_1.ipynb\" target=\"_parent\"><img src=\"https://colab.research.google.com/assets/colab-badge.svg\" alt=\"Open In Colab\"/></a>"
      ]
    },
    {
      "cell_type": "markdown",
      "metadata": {
        "id": "7yJ9eBUH55R_"
      },
      "source": [
        "#Practical Lab Exam 1"
      ]
    },
    {
      "cell_type": "code",
      "metadata": {
        "colab": {
          "base_uri": "https://localhost:8080/"
        },
        "id": "0jl35W7xsvnU",
        "outputId": "51b0176b-0ea6-40dd-b87f-43329f04dff3"
      },
      "source": [
        "import numpy as np\n",
        "\n",
        "A=np.array(([1,2,3],[4,5,6]))\n",
        "B = np.array ((([1,2],[3,4],[5,6])))\n",
        "C = np.array ((([1,2,3],[4,5,6],[7,8,9])))\n",
        "D = np.array (([1,2],[3,4]))\n",
        "\n",
        "\n",
        "print(\"VALUES OF ALL ARRAYS: \\n\")\n",
        "print(A)\n",
        "print(\"\\n\")\n",
        "print(B)\n",
        "print(\"\\n\")\n",
        "print(C)\n",
        "print(\"\\n\")\n",
        "print(D)\n",
        "print(\"\\n\")\n",
        "print(\"________________ \\n\")\n",
        "\n",
        "#a. AB\n",
        "print(\"AB \\n\")\n",
        "cross=np.dot(A,B)\n",
        "print(cross)\n",
        "\n",
        "#b. D+D\n",
        "print(\"________________ \\n\")\n",
        "print(\"D+D \\n\")\n",
        "sum=D+D\n",
        "print(sum)\n",
        "\n",
        "#c. 2C\n",
        "print(\"________________ \\n\")\n",
        "print(\"2C \\n\")\n",
        "upscale=2*C\n",
        "print(upscale)\n",
        "\n",
        "\n"
      ],
      "execution_count": 31,
      "outputs": [
        {
          "output_type": "stream",
          "name": "stdout",
          "text": [
            "VALUES OF ALL ARRAYS: \n",
            "\n",
            "[[1 2 3]\n",
            " [4 5 6]]\n",
            "\n",
            "\n",
            "[[1 2]\n",
            " [3 4]\n",
            " [5 6]]\n",
            "\n",
            "\n",
            "[[1 2 3]\n",
            " [4 5 6]\n",
            " [7 8 9]]\n",
            "\n",
            "\n",
            "[[1 2]\n",
            " [3 4]]\n",
            "\n",
            "\n",
            "________________ \n",
            "\n",
            "AB \n",
            "\n",
            "[[22 28]\n",
            " [49 64]]\n",
            "________________ \n",
            "\n",
            "D+D \n",
            "\n",
            "[[2 4]\n",
            " [6 8]]\n",
            "________________ \n",
            "\n",
            "2C \n",
            "\n",
            "[[ 2  4  6]\n",
            " [ 8 10 12]\n",
            " [14 16 18]]\n"
          ]
        }
      ]
    },
    {
      "cell_type": "code",
      "metadata": {
        "colab": {
          "base_uri": "https://localhost:8080/"
        },
        "id": "X-evmmCus_o_",
        "outputId": "98a6f279-b0a0-4e1a-f172-47b7ceb23f2f"
      },
      "source": [
        "#given equation expressed as matrix\n",
        "import numpy as np\n",
        "emis=np.array([5,3,-1])\n",
        "\n",
        "print(\"Array: \\n\",emis,\"\\n\")\n",
        "\n",
        "\n",
        "print(\"Structure type: \",type(emis))\n",
        "print(\"Data type: \", emis.dtype)\n",
        "print(\"Shape: \", emis.shape)\n",
        "print(\"Dimension: \", emis.ndim)\n"
      ],
      "execution_count": 30,
      "outputs": [
        {
          "output_type": "stream",
          "name": "stdout",
          "text": [
            "Array: \n",
            " [ 5  3 -1] \n",
            "\n",
            "Structure type:  <class 'numpy.ndarray'>\n",
            "Data type:  int64\n",
            "Shape:  (3,)\n",
            "Dimension:  1\n"
          ]
        }
      ]
    },
    {
      "cell_type": "code",
      "metadata": {
        "id": "w9GTg2PP25sc"
      },
      "source": [
        ""
      ],
      "execution_count": null,
      "outputs": []
    }
  ]
}