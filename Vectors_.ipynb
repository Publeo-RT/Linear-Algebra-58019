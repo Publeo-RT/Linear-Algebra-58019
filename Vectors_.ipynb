{
  "nbformat": 4,
  "nbformat_minor": 0,
  "metadata": {
    "colab": {
      "name": "Vectors .ipynb",
      "provenance": [],
      "authorship_tag": "ABX9TyPvHheqWQlmx/SerVFmnTUF",
      "include_colab_link": true
    },
    "kernelspec": {
      "name": "python3",
      "display_name": "Python 3"
    },
    "language_info": {
      "name": "python"
    }
  },
  "cells": [
    {
      "cell_type": "markdown",
      "metadata": {
        "id": "view-in-github",
        "colab_type": "text"
      },
      "source": [
        "<a href=\"https://colab.research.google.com/github/Sev-RyanLeo/Linear-Algebra-58019/blob/main/Vectors_.ipynb\" target=\"_parent\"><img src=\"https://colab.research.google.com/assets/colab-badge.svg\" alt=\"Open In Colab\"/></a>"
      ]
    },
    {
      "cell_type": "markdown",
      "metadata": {
        "id": "5Pg6ROSM0lqM"
      },
      "source": [
        "#Matrix Algebra\n"
      ]
    },
    {
      "cell_type": "markdown",
      "metadata": {
        "id": "IZTWEtKV2wEt"
      },
      "source": [
        "Rectangular Matrix\n"
      ]
    },
    {
      "cell_type": "code",
      "metadata": {
        "colab": {
          "base_uri": "https://localhost:8080/"
        },
        "id": "vQ8mB_cA0tNu",
        "outputId": "a678a960-c566-4d22-e89c-2a4603b9940a"
      },
      "source": [
        "#numphy\n",
        "import numpy as np\n",
        "a = np.array([1,2,3]) #This is an example of 1x3 matrix\n",
        "print(a)"
      ],
      "execution_count": 4,
      "outputs": [
        {
          "output_type": "stream",
          "name": "stdout",
          "text": [
            "[1 2 3]\n"
          ]
        }
      ]
    },
    {
      "cell_type": "code",
      "metadata": {
        "colab": {
          "base_uri": "https://localhost:8080/"
        },
        "id": "XETTYPzR1uUh",
        "outputId": "d672bfb1-aed7-4466-ad9d-02cf5cb56aad"
      },
      "source": [
        "import numpy as np\n",
        "b=np.array([[1,2,3],[4,5,6]]) #This is a 2x3 matrix\n",
        "print(b)"
      ],
      "execution_count": 7,
      "outputs": [
        {
          "output_type": "stream",
          "name": "stdout",
          "text": [
            "[[1 2 3]\n",
            " [4 5 6]]\n"
          ]
        }
      ]
    },
    {
      "cell_type": "markdown",
      "metadata": {
        "id": "Xqc2ZvcK20yK"
      },
      "source": [
        "Square Matrix"
      ]
    },
    {
      "cell_type": "code",
      "metadata": {
        "colab": {
          "base_uri": "https://localhost:8080/"
        },
        "id": "D20j6nMR2Uas",
        "outputId": "fc45d7ab-8ce9-4579-b013-db311d237244"
      },
      "source": [
        "import numpy as np\n",
        "c= np.array([[1,2,3],[4,5,6],[7,8,9]])\n",
        "print(c)"
      ],
      "execution_count": 10,
      "outputs": [
        {
          "output_type": "stream",
          "name": "stdout",
          "text": [
            "[[1 2 3]\n",
            " [4 5 6]\n",
            " [7 8 9]]\n"
          ]
        }
      ]
    },
    {
      "cell_type": "code",
      "metadata": {
        "colab": {
          "base_uri": "https://localhost:8080/"
        },
        "id": "3GGZRtbA25eQ",
        "outputId": "0b255d65-094a-4417-b380-c6d9e29c1ba3"
      },
      "source": [
        "import numpy as np\n",
        "d=np.full((3,3),7)\n",
        "print(d)"
      ],
      "execution_count": 19,
      "outputs": [
        {
          "output_type": "stream",
          "name": "stdout",
          "text": [
            "[[7 7 7]\n",
            " [7 7 7]\n",
            " [7 7 7]]\n"
          ]
        }
      ]
    },
    {
      "cell_type": "code",
      "metadata": {
        "colab": {
          "base_uri": "https://localhost:8080/"
        },
        "id": "aur7oOER3qyH",
        "outputId": "8e093bda-80dc-4d8b-f9f1-53a152722c75"
      },
      "source": [
        "import numpy as np\n",
        "c= np.array([[1,2,3],[4,5,6],[7,8,9]])\n",
        "e=np.diagonal([[1,2,3],[4,5,6],[7,8,9]])\n",
        "print(c)\n",
        "print(e)"
      ],
      "execution_count": 24,
      "outputs": [
        {
          "output_type": "stream",
          "name": "stdout",
          "text": [
            "[[1 2 3]\n",
            " [4 5 6]\n",
            " [7 8 9]]\n",
            "[1 5 9]\n"
          ]
        }
      ]
    },
    {
      "cell_type": "code",
      "metadata": {
        "colab": {
          "base_uri": "https://localhost:8080/"
        },
        "id": "0ezzjA4c4Age",
        "outputId": "3104d583-8800-4ab2-c237-846f3da5a6f7"
      },
      "source": [
        "import numpy as np\n",
        "f= np.eye(3)\n",
        "print(f)"
      ],
      "execution_count": 26,
      "outputs": [
        {
          "output_type": "stream",
          "name": "stdout",
          "text": [
            "[[1. 0. 0.]\n",
            " [0. 1. 0.]\n",
            " [0. 0. 1.]]\n"
          ]
        }
      ]
    },
    {
      "cell_type": "code",
      "metadata": {
        "colab": {
          "base_uri": "https://localhost:8080/"
        },
        "id": "gpyVAUPL4KiH",
        "outputId": "4ef3f8b2-1936-4768-8417-c7855c8b8e86"
      },
      "source": [
        "import numpy as np\n",
        "g=np.zeros((3,3))\n",
        "print(g)"
      ],
      "execution_count": 28,
      "outputs": [
        {
          "output_type": "stream",
          "name": "stdout",
          "text": [
            "[[0. 0. 0.]\n",
            " [0. 0. 0.]\n",
            " [0. 0. 0.]]\n"
          ]
        }
      ]
    },
    {
      "cell_type": "code",
      "metadata": {
        "colab": {
          "base_uri": "https://localhost:8080/"
        },
        "id": "QDezLUg94RHg",
        "outputId": "7a6727f6-fc45-4712-e81f-8accf3866be0"
      },
      "source": [
        "import numpy as np\n",
        "h= np.empty(0)\n",
        "print(h)\n"
      ],
      "execution_count": 31,
      "outputs": [
        {
          "output_type": "stream",
          "name": "stdout",
          "text": [
            "[]\n"
          ]
        }
      ]
    },
    {
      "cell_type": "markdown",
      "metadata": {
        "id": "GfZmVWB141rD"
      },
      "source": [
        "Addition of Matrix"
      ]
    },
    {
      "cell_type": "code",
      "metadata": {
        "colab": {
          "base_uri": "https://localhost:8080/"
        },
        "id": "tpB_UaF_4io1",
        "outputId": "74bf9d06-b541-4aca-d2f0-d90e287331ff"
      },
      "source": [
        "import numpy as np\n",
        "import numpy as np\n",
        "d=np.full((3,3),7)\n",
        "print(d+d)\n",
        "\n"
      ],
      "execution_count": 33,
      "outputs": [
        {
          "output_type": "stream",
          "name": "stdout",
          "text": [
            "[[14 14 14]\n",
            " [14 14 14]\n",
            " [14 14 14]]\n"
          ]
        }
      ]
    },
    {
      "cell_type": "markdown",
      "metadata": {
        "id": "gIpTwNhH49vw"
      },
      "source": [
        "Subtraction or Matrix"
      ]
    },
    {
      "cell_type": "code",
      "metadata": {
        "colab": {
          "base_uri": "https://localhost:8080/"
        },
        "id": "n6UkDzJZ4832",
        "outputId": "cd028189-6c89-4bd2-e1c4-0d6e24c93261"
      },
      "source": [
        "import numpy as np\n",
        "d=np.full((3,3),7)\n",
        "print(d-d)"
      ],
      "execution_count": 34,
      "outputs": [
        {
          "output_type": "stream",
          "name": "stdout",
          "text": [
            "[[0 0 0]\n",
            " [0 0 0]\n",
            " [0 0 0]]\n"
          ]
        }
      ]
    }
  ]
}