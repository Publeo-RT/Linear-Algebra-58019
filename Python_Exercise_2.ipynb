{
  "nbformat": 4,
  "nbformat_minor": 0,
  "metadata": {
    "colab": {
      "name": "Python Exercise 2",
      "provenance": [],
      "authorship_tag": "ABX9TyP0Hs6nzgC2LnDdAA4tJ/EM",
      "include_colab_link": true
    },
    "kernelspec": {
      "name": "python3",
      "display_name": "Python 3"
    },
    "language_info": {
      "name": "python"
    }
  },
  "cells": [
    {
      "cell_type": "markdown",
      "metadata": {
        "id": "view-in-github",
        "colab_type": "text"
      },
      "source": [
        "<a href=\"https://colab.research.google.com/github/Sev-RyanLeo/Linear-Algebra-58019/blob/main/Python_Exercise_2.ipynb\" target=\"_parent\"><img src=\"https://colab.research.google.com/assets/colab-badge.svg\" alt=\"Open In Colab\"/></a>"
      ]
    },
    {
      "cell_type": "markdown",
      "metadata": {
        "id": "YfEKCL6gnYRS"
      },
      "source": [
        "#Representing Vectors\n"
      ]
    },
    {
      "cell_type": "code",
      "metadata": {
        "colab": {
          "base_uri": "https://localhost:8080/"
        },
        "id": "cq5buzQ9mSKk",
        "outputId": "06aacd41-8790-43f4-dfd6-046c7ba189c6"
      },
      "source": [
        "import numpy as np\n",
        "\n",
        "A=np.array([4,2])\n",
        "B=np.array([2,-5])\n",
        "\n",
        "print(\"Vector A is \", A)\n",
        "print(\"Vector B is \", B )"
      ],
      "execution_count": 2,
      "outputs": [
        {
          "output_type": "stream",
          "name": "stdout",
          "text": [
            "Vector A is  [4 2]\n",
            "Vector B is  [ 2 -5]\n"
          ]
        }
      ]
    },
    {
      "cell_type": "markdown",
      "metadata": {
        "id": "RiM-E1HDpIXX"
      },
      "source": [
        "#Describing Vectors in NumPy\n"
      ]
    },
    {
      "cell_type": "code",
      "metadata": {
        "colab": {
          "base_uri": "https://localhost:8080/"
        },
        "id": "_nTWk_2OpMIT",
        "outputId": "f15b387f-063b-4f5b-88c1-eb1de1047511"
      },
      "source": [
        "import numpy as np\n",
        "ball1=np.array([1,2,3])\n",
        "ball2=np.array([0,1,-1])\n",
        "pool=np.array([ball1,ball2])\n",
        "pool.shape\n",
        "pool.ndim"
      ],
      "execution_count": 10,
      "outputs": [
        {
          "output_type": "execute_result",
          "data": {
            "text/plain": [
              "2"
            ]
          },
          "metadata": {},
          "execution_count": 10
        }
      ]
    },
    {
      "cell_type": "code",
      "metadata": {
        "colab": {
          "base_uri": "https://localhost:8080/"
        },
        "id": "HqJEUUWYqhQn",
        "outputId": "62aee2c5-f6de-453d-c2f0-95d171d6dbb4"
      },
      "source": [
        "u=np.array([[1,2,3],[4,5,6]])\n",
        "u.shape #rows and columns (no. of rows, no. of columns)"
      ],
      "execution_count": 15,
      "outputs": [
        {
          "output_type": "execute_result",
          "data": {
            "text/plain": [
              "(2, 3)"
            ]
          },
          "metadata": {},
          "execution_count": 15
        }
      ]
    },
    {
      "cell_type": "code",
      "metadata": {
        "colab": {
          "base_uri": "https://localhost:8080/"
        },
        "id": "vXwaICXfq9bZ",
        "outputId": "ffdd10b7-a031-40bf-d90c-86b8953dfdd7"
      },
      "source": [
        "u=np.array([[1,2,3],[4,5,6]])\n",
        "u.ndim #number of dimensions"
      ],
      "execution_count": 17,
      "outputs": [
        {
          "output_type": "execute_result",
          "data": {
            "text/plain": [
              "2"
            ]
          },
          "metadata": {},
          "execution_count": 17
        }
      ]
    },
    {
      "cell_type": "code",
      "metadata": {
        "colab": {
          "base_uri": "https://localhost:8080/"
        },
        "id": "CqTawNKdrC2J",
        "outputId": "5f9b75d0-3997-476f-bac7-9dc3024be6d0"
      },
      "source": [
        "u=np.array([[1,2,3],[4,5,6]])\n",
        "u.size #number of components"
      ],
      "execution_count": 18,
      "outputs": [
        {
          "output_type": "execute_result",
          "data": {
            "text/plain": [
              "6"
            ]
          },
          "metadata": {},
          "execution_count": 18
        }
      ]
    },
    {
      "cell_type": "markdown",
      "metadata": {
        "id": "hdCZ6TvKrzqg"
      },
      "source": [
        "#Space"
      ]
    },
    {
      "cell_type": "markdown",
      "metadata": {
        "id": "xAUeIHWesDGv"
      },
      "source": [
        "##Vector spaces are mathematical objects that abstractly capture the geometry and algebra of linear equations\n"
      ]
    },
    {
      "cell_type": "markdown",
      "metadata": {
        "id": "568c784KtdVW"
      },
      "source": [
        "#Addition of Vector\n"
      ]
    },
    {
      "cell_type": "code",
      "metadata": {
        "colab": {
          "base_uri": "https://localhost:8080/"
        },
        "id": "7XpwTT7gtheX",
        "outputId": "86fc3200-1eb1-43f8-ff5c-5d6b50125bd2"
      },
      "source": [
        "import numpy as np\n",
        "addend1=np.array([0,0,0])\n",
        "addend2=np.array([1,1,0])\n",
        "sum=addend1+addend2\n",
        "print(sum)\n"
      ],
      "execution_count": 34,
      "outputs": [
        {
          "output_type": "stream",
          "name": "stdout",
          "text": [
            "[1 1 0]\n"
          ]
        }
      ]
    },
    {
      "cell_type": "code",
      "metadata": {
        "colab": {
          "base_uri": "https://localhost:8080/"
        },
        "id": "47B9aPjCu0Xj",
        "outputId": "c8cc1a5f-1007-41d8-c128-81d47af09f57"
      },
      "source": [
        "import numpy as np\n",
        "addend1=np.array([0,0,0])\n",
        "addend2=np.array([1,1,0])\n",
        "resultant = np.add(addend1,addend2)\n",
        "print(resultant)"
      ],
      "execution_count": 35,
      "outputs": [
        {
          "output_type": "stream",
          "name": "stdout",
          "text": [
            "[1 1 0]\n"
          ]
        }
      ]
    },
    {
      "cell_type": "markdown",
      "metadata": {
        "id": "jhevUml9vD6g"
      },
      "source": [
        "#Subtraction of Vector\n"
      ]
    },
    {
      "cell_type": "code",
      "metadata": {
        "colab": {
          "base_uri": "https://localhost:8080/"
        },
        "id": "OIRNe5QZvQ0p",
        "outputId": "572a5b86-a422-4211-ae9d-27b9ead037c6"
      },
      "source": [
        "\n",
        "difference=addend1-addend2\n",
        "print(difference)\n"
      ],
      "execution_count": 26,
      "outputs": [
        {
          "output_type": "stream",
          "name": "stdout",
          "text": [
            "[-1 -1  0]\n"
          ]
        }
      ]
    },
    {
      "cell_type": "code",
      "metadata": {
        "colab": {
          "base_uri": "https://localhost:8080/"
        },
        "id": "PRBStNEEvG1s",
        "outputId": "6d2d7b25-f34c-41ff-f219-76ecc1d6e241"
      },
      "source": [
        "\n",
        "difference2 = np.subtract(addend1,addend2)\n",
        "print(difference2)"
      ],
      "execution_count": 28,
      "outputs": [
        {
          "output_type": "stream",
          "name": "stdout",
          "text": [
            "[-1 -1  0]\n"
          ]
        }
      ]
    },
    {
      "cell_type": "markdown",
      "metadata": {
        "id": "cAM8ch5rwZrT"
      },
      "source": [
        "#Scaling "
      ]
    },
    {
      "cell_type": "code",
      "metadata": {
        "colab": {
          "base_uri": "https://localhost:8080/"
        },
        "id": "hA_rn8oTwcY1",
        "outputId": "b550aa47-91c9-47b5-cd3c-d2045d650a45"
      },
      "source": [
        "X= np.array([1,5,8,9])\n",
        "S= 5*A1\n",
        "print(S)"
      ],
      "execution_count": 30,
      "outputs": [
        {
          "output_type": "stream",
          "name": "stdout",
          "text": [
            "[ 5 25 40 45]\n"
          ]
        }
      ]
    },
    {
      "cell_type": "markdown",
      "metadata": {
        "id": "K9OU5ZOjxNqr"
      },
      "source": [
        "#Cross Product"
      ]
    },
    {
      "cell_type": "code",
      "metadata": {
        "colab": {
          "base_uri": "https://localhost:8080/"
        },
        "id": "IjJiUhldxQs9",
        "outputId": "de40da87-dcec-41f5-ac04-d0cf3b37ccd1"
      },
      "source": [
        "import numpy as np\n",
        "\n",
        "c1=np.array([2,3])\n",
        "c2=np.array([1,7])\n",
        "output=np.cross(c1,c2)\n",
        "print(output)"
      ],
      "execution_count": 36,
      "outputs": [
        {
          "output_type": "stream",
          "name": "stdout",
          "text": [
            "11\n"
          ]
        }
      ]
    },
    {
      "cell_type": "code",
      "metadata": {
        "colab": {
          "base_uri": "https://localhost:8080/"
        },
        "id": "PFDrHDTMy-W-",
        "outputId": "02dd9c96-34fa-4be8-ee03-cc863df0c1e7"
      },
      "source": [
        "import numpy as np\n",
        "\n",
        "c3=np.array([2,3,4])\n",
        "c4=np.array([1,7,1])\n",
        "output2=np.cross(c3,c4)\n",
        "print(output2)"
      ],
      "execution_count": 38,
      "outputs": [
        {
          "output_type": "stream",
          "name": "stdout",
          "text": [
            "[-25   2  11]\n"
          ]
        }
      ]
    },
    {
      "cell_type": "markdown",
      "metadata": {
        "id": "yizhJMc80NsJ"
      },
      "source": [
        "#Dot Product\n"
      ]
    },
    {
      "cell_type": "code",
      "metadata": {
        "colab": {
          "base_uri": "https://localhost:8080/"
        },
        "id": "qaBIwmoX0PjO",
        "outputId": "68edf451-f527-4a0e-aeec-4cd17339d93a"
      },
      "source": [
        "dot1=np.dot(c1,c2)\n",
        "print(dot1)"
      ],
      "execution_count": 41,
      "outputs": [
        {
          "output_type": "stream",
          "name": "stdout",
          "text": [
            "23\n"
          ]
        }
      ]
    },
    {
      "cell_type": "code",
      "metadata": {
        "colab": {
          "base_uri": "https://localhost:8080/"
        },
        "id": "XC8J4mW400aJ",
        "outputId": "49a7d64e-d9c1-48d3-e568-f4d9259c3813"
      },
      "source": [
        "dot2=np.dot(c3,c4)\n",
        "print(dot2)"
      ],
      "execution_count": 43,
      "outputs": [
        {
          "output_type": "stream",
          "name": "stdout",
          "text": [
            "27\n"
          ]
        }
      ]
    }
  ]
}