{
  "nbformat": 4,
  "nbformat_minor": 0,
  "metadata": {
    "colab": {
      "name": "Determinant of Matrix",
      "provenance": [],
      "authorship_tag": "ABX9TyMBvK10SIc2kTBE4hVoKyX3",
      "include_colab_link": true
    },
    "kernelspec": {
      "name": "python3",
      "display_name": "Python 3"
    },
    "language_info": {
      "name": "python"
    }
  },
  "cells": [
    {
      "cell_type": "markdown",
      "metadata": {
        "id": "view-in-github",
        "colab_type": "text"
      },
      "source": [
        "<a href=\"https://colab.research.google.com/github/Sev-RyanLeo/Linear-Algebra-58019/blob/main/Determinant_of_Matrix.ipynb\" target=\"_parent\"><img src=\"https://colab.research.google.com/assets/colab-badge.svg\" alt=\"Open In Colab\"/></a>"
      ]
    },
    {
      "cell_type": "code",
      "metadata": {
        "colab": {
          "base_uri": "https://localhost:8080/"
        },
        "id": "mHs5NfnMAVtH",
        "outputId": "53c145c5-eea5-4913-d2f2-a57726241e9e"
      },
      "source": [
        "import numpy as np                            #importing of library for array syntax access\n",
        "A=np.array([[1,2,-1],[4,6,-2],[-1,3,3]])      #defining of array and its values\n",
        "print(A)                                      #printing of array values\n",
        "\n",
        "print(\"Determinant of array A:\")               #printing of label\n",
        "print(round(np.linalg.det(A)))                #acquiring and printing of array A"
      ],
      "execution_count": 6,
      "outputs": [
        {
          "output_type": "stream",
          "name": "stdout",
          "text": [
            "[[ 1  2 -1]\n",
            " [ 4  6 -2]\n",
            " [-1  3  3]]\n",
            "Determinant of array A:\n",
            "-14\n"
          ]
        }
      ]
    }
  ]
}