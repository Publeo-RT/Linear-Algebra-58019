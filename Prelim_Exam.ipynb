{
  "nbformat": 4,
  "nbformat_minor": 0,
  "metadata": {
    "colab": {
      "name": "Prelim Exam.ipynb",
      "provenance": [],
      "authorship_tag": "ABX9TyMtVTxxiifc2Nv3tkJHBxvv",
      "include_colab_link": true
    },
    "kernelspec": {
      "name": "python3",
      "display_name": "Python 3"
    },
    "language_info": {
      "name": "python"
    }
  },
  "cells": [
    {
      "cell_type": "markdown",
      "metadata": {
        "id": "view-in-github",
        "colab_type": "text"
      },
      "source": [
        "<a href=\"https://colab.research.google.com/github/Sev-RyanLeo/Linear-Algebra-58019/blob/main/Prelim_Exam.ipynb\" target=\"_parent\"><img src=\"https://colab.research.google.com/assets/colab-badge.svg\" alt=\"Open In Colab\"/></a>"
      ]
    },
    {
      "cell_type": "markdown",
      "metadata": {
        "id": "8hCwC1WEiI0t"
      },
      "source": [
        "#Prelim Exam\n"
      ]
    },
    {
      "cell_type": "markdown",
      "metadata": {
        "id": "hPvURRFsiSfx"
      },
      "source": [
        "Question 1\n",
        "\n",
        "Create a 4 x 4 matrix whose diagonal elements are all one (1's). Name it as matrix \"C\". Show your solutions using Python codes and do not forget to label them on the Text Cell."
      ]
    },
    {
      "cell_type": "code",
      "metadata": {
        "colab": {
          "base_uri": "https://localhost:8080/"
        },
        "id": "BqaymfN8iYNK",
        "outputId": "a4a3cd65-1a92-4c01-c8d2-e44f9badead3"
      },
      "source": [
        "print(\"Question 1\")   #printing of label\n",
        "import numpy as np    #importing of library used for array matrices\n",
        "C= np.eye((4))        #creation of matrix C with default value of 1 in diagonal\n",
        "print(C)              #printing values of matrix C\n",
        "\n"
      ],
      "execution_count": 27,
      "outputs": [
        {
          "output_type": "stream",
          "name": "stdout",
          "text": [
            "Question 1\n",
            "[[1. 0. 0. 0.]\n",
            " [0. 1. 0. 0.]\n",
            " [0. 0. 1. 0.]\n",
            " [0. 0. 0. 1.]]\n"
          ]
        }
      ]
    },
    {
      "cell_type": "markdown",
      "metadata": {
        "id": "QQPRKas5mM4q"
      },
      "source": [
        "Question 2\n",
        "\n",
        "In relation to Question 1, show a solution that doubles all the values of each element. Show your solutions using Python codes and do not forget to label them on the Text Cell."
      ]
    },
    {
      "cell_type": "code",
      "metadata": {
        "colab": {
          "base_uri": "https://localhost:8080/"
        },
        "id": "BD2tkIJQimAB",
        "outputId": "36e4899c-51e1-421b-98bd-832dbeabd39c"
      },
      "source": [
        "import numpy as np    #importing of library used for array matrices\n",
        "C= np.eye((4))        #creation of matrix C with default value of 1 in diagonal\n",
        "print(\"Question 2\")   #printing of label\n",
        "doubleC=C*2           #scaling value of C by 2 and assigning to another variable\n",
        "print(doubleC)        #print of variable assigned for scaled up values\n",
        "\n"
      ],
      "execution_count": 28,
      "outputs": [
        {
          "output_type": "stream",
          "name": "stdout",
          "text": [
            "Question 2\n",
            "[[2. 0. 0. 0.]\n",
            " [0. 2. 0. 0.]\n",
            " [0. 0. 2. 0.]\n",
            " [0. 0. 0. 2.]]\n"
          ]
        }
      ]
    },
    {
      "cell_type": "markdown",
      "metadata": {
        "id": "3iewF3JUneFa"
      },
      "source": [
        "Question 3\n",
        "\n",
        "Find the cross-product of matrices, A = [2,7,4] and B = [3,9,8]. Show your solutions using Python codes and do not forget to label them on the Text Cell."
      ]
    },
    {
      "cell_type": "code",
      "metadata": {
        "colab": {
          "base_uri": "https://localhost:8080/"
        },
        "id": "_GLFTtBcndN6",
        "outputId": "3f9835b2-fc46-40af-f9e6-75911f3af9f2"
      },
      "source": [
        "import numpy as np                      #importing of library used for array matrices\n",
        "A = np.array([2,7,4])                   #creation of Array A and assigning its values\n",
        "B = np.array([3,9,8])                   #creation of Array B and assigning its values\n",
        "cpAP= np.cross(A,B)                     #crossing A and B, then assigning its values to a new variable\n",
        "print(\"Question 3\")                     #printing of label\n",
        "print(\"Cross Product of A and B: \\n\")   #printing of label\n",
        "print(cpAP)                             #prinnting the variable containing cross-product of A and B"
      ],
      "execution_count": 29,
      "outputs": [
        {
          "output_type": "stream",
          "name": "stdout",
          "text": [
            "Question 3\n",
            "Cross Product of A and B: \n",
            "\n",
            "[20 -4 -3]\n"
          ]
        }
      ]
    }
  ]
}