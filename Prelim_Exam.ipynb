{
  "nbformat": 4,
  "nbformat_minor": 0,
  "metadata": {
    "colab": {
      "name": "Prelim Exam.ipynb",
      "provenance": [],
      "authorship_tag": "ABX9TyOv1EnRHllrv5mR6xoL9Fdd",
      "include_colab_link": true
    },
    "kernelspec": {
      "name": "python3",
      "display_name": "Python 3"
    },
    "language_info": {
      "name": "python"
    }
  },
  "cells": [
    {
      "cell_type": "markdown",
      "metadata": {
        "id": "view-in-github",
        "colab_type": "text"
      },
      "source": [
        "<a href=\"https://colab.research.google.com/github/Sev-RyanLeo/Linear-Algebra-58019/blob/main/Prelim_Exam.ipynb\" target=\"_parent\"><img src=\"https://colab.research.google.com/assets/colab-badge.svg\" alt=\"Open In Colab\"/></a>"
      ]
    },
    {
      "cell_type": "markdown",
      "metadata": {
        "id": "8hCwC1WEiI0t"
      },
      "source": [
        "#Prelim Exam\n"
      ]
    },
    {
      "cell_type": "markdown",
      "metadata": {
        "id": "hPvURRFsiSfx"
      },
      "source": [
        "Question 1\n"
      ]
    },
    {
      "cell_type": "code",
      "metadata": {
        "colab": {
          "base_uri": "https://localhost:8080/"
        },
        "id": "BqaymfN8iYNK",
        "outputId": "2c62fdac-afb6-4644-e80d-74f775dc7b38"
      },
      "source": [
        "#Create a 4 x 4 matrix whose diagonal elements are all one (1's). \n",
        "#Name it as matrix \"C\". \n",
        "#Show your solutions using Python codes \n",
        "#and do not forget to label them on the Text Cell.\n",
        "\n",
        "print(\"Question 1\")   #printing of label\n",
        "import numpy as np    #importing of library used for array matrices\n",
        "C= np.eye((4))        #creation of matrix C with default value of 1 in diagonal\n",
        "print(C)              #printing values of matrix C\n",
        "\n"
      ],
      "execution_count": 25,
      "outputs": [
        {
          "output_type": "stream",
          "name": "stdout",
          "text": [
            "Question 1\n",
            "[[1. 0. 0. 0.]\n",
            " [0. 1. 0. 0.]\n",
            " [0. 0. 1. 0.]\n",
            " [0. 0. 0. 1.]]\n"
          ]
        }
      ]
    },
    {
      "cell_type": "markdown",
      "metadata": {
        "id": "QQPRKas5mM4q"
      },
      "source": [
        "Question 2"
      ]
    },
    {
      "cell_type": "code",
      "metadata": {
        "colab": {
          "base_uri": "https://localhost:8080/"
        },
        "id": "BD2tkIJQimAB",
        "outputId": "73702481-93b7-431b-fc57-e245ce787512"
      },
      "source": [
        "#In relation to Question 1, show a solution that doubles all the values of each element. \n",
        "#Show your solutions using Python codes and do not forget to label them on the Text Cell.\n",
        "\n",
        "\n",
        "import numpy as np    #importing of library used for array matrices\n",
        "C= np.eye((4))        #creation of matrix C with default value of 1 in diagonal\n",
        "print(\"Question 2\")   #printing of label\n",
        "doubleC=C*2           #scaling value of C by 2 and assigning to another variable\n",
        "print(doubleC)        #print of variable assigned for scaled up values\n",
        "\n"
      ],
      "execution_count": 24,
      "outputs": [
        {
          "output_type": "stream",
          "name": "stdout",
          "text": [
            "Question 2\n",
            "[[2. 0. 0. 0.]\n",
            " [0. 2. 0. 0.]\n",
            " [0. 0. 2. 0.]\n",
            " [0. 0. 0. 2.]]\n"
          ]
        }
      ]
    },
    {
      "cell_type": "markdown",
      "metadata": {
        "id": "3iewF3JUneFa"
      },
      "source": [
        "Question 3"
      ]
    },
    {
      "cell_type": "code",
      "metadata": {
        "colab": {
          "base_uri": "https://localhost:8080/"
        },
        "id": "_GLFTtBcndN6",
        "outputId": "68bba6ae-01cf-44a6-9c72-e0dceb0ab9cb"
      },
      "source": [
        "# Find the cross-product of matrices, -\n",
        "# A = [2,7,4] and B = [3,9,8]. \n",
        "#Show your solutions using Python codes and do not forget to label them on the Text Cell.\n",
        "\n",
        "import numpy as np                      #importing of library used for array matrices\n",
        "A = np.array([2,7,4])                   #creation of Array A and assigning its values\n",
        "B = np.array([3,9,8])                   #creation of Array B and assigning its values\n",
        "cpAP= np.cross(A,B)                     #crossing A and B, then assigning its values to a new variable\n",
        "print(\"Question 3\")                     #printing of label\n",
        "print(\"Cross Product of A and B: \\n\")   #printing of label\n",
        "print(cpAP)                             #prinnting the variable containing cross-product of A and B"
      ],
      "execution_count": 23,
      "outputs": [
        {
          "output_type": "stream",
          "name": "stdout",
          "text": [
            "Question 3\n",
            "Cross Product of A and B: \n",
            "\n",
            "[20 -4 -3]\n"
          ]
        }
      ]
    }
  ]
}