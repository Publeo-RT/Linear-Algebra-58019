{
  "nbformat": 4,
  "nbformat_minor": 0,
  "metadata": {
    "colab": {
      "name": "Python Activity 1.ipynb",
      "provenance": [],
      "toc_visible": true,
      "authorship_tag": "ABX9TyM9Ku8V/g45zI0S3evPyJd7",
      "include_colab_link": true
    },
    "kernelspec": {
      "name": "python3",
      "display_name": "Python 3"
    },
    "language_info": {
      "name": "python"
    }
  },
  "cells": [
    {
      "cell_type": "markdown",
      "metadata": {
        "id": "view-in-github",
        "colab_type": "text"
      },
      "source": [
        "<a href=\"https://colab.research.google.com/github/Sev-RyanLeo/Linear-Algebra-58019/blob/main/Python_Activity_1.ipynb\" target=\"_parent\"><img src=\"https://colab.research.google.com/assets/colab-badge.svg\" alt=\"Open In Colab\"/></a>"
      ]
    },
    {
      "cell_type": "markdown",
      "metadata": {
        "id": "olUjbviu_Ipc"
      },
      "source": [
        "#Matrix and Its Operations"
      ]
    },
    {
      "cell_type": "markdown",
      "metadata": {
        "id": "NoIMAQ6v9F27"
      },
      "source": [
        "Array\n"
      ]
    },
    {
      "cell_type": "code",
      "metadata": {
        "colab": {
          "base_uri": "https://localhost:8080/"
        },
        "id": "RvHyex4H721r",
        "outputId": "418df405-726e-4d49-9ba4-c7fbbe3c4a91"
      },
      "source": [
        "import numpy as np\n",
        "a= np.array([[-5,0],[4,1]])\n",
        "print(a)\n",
        "b= np.array([[6,-3],[2,3]])\n",
        "print(b)"
      ],
      "execution_count": 13,
      "outputs": [
        {
          "output_type": "stream",
          "name": "stdout",
          "text": [
            "[[-5  0]\n",
            " [ 4  1]]\n",
            "[[ 6 -3]\n",
            " [ 2  3]]\n"
          ]
        }
      ]
    },
    {
      "cell_type": "markdown",
      "metadata": {
        "id": "0qV7fiHn9NX4"
      },
      "source": [
        "Sum of A and B"
      ]
    },
    {
      "cell_type": "code",
      "metadata": {
        "colab": {
          "base_uri": "https://localhost:8080/"
        },
        "id": "9C0EO4qK83z1",
        "outputId": "047b28c5-3985-4818-9aaf-9e48076a28bb"
      },
      "source": [
        "import numpy as np\n",
        "a= np.array([[-5,0],[4,1]])\n",
        "b= np.array([[6,-3],[2,3]])\n",
        "print(a+b)"
      ],
      "execution_count": 14,
      "outputs": [
        {
          "output_type": "stream",
          "name": "stdout",
          "text": [
            "[[ 1 -3]\n",
            " [ 6  4]]\n"
          ]
        }
      ]
    },
    {
      "cell_type": "markdown",
      "metadata": {
        "id": "552UGMhl-R3a"
      },
      "source": [
        "Difference of B and A (b-a)"
      ]
    },
    {
      "cell_type": "code",
      "metadata": {
        "colab": {
          "base_uri": "https://localhost:8080/"
        },
        "id": "F0accg8K9sq1",
        "outputId": "13a12ed3-a25c-4ef2-f7ba-e1c47d1f8556"
      },
      "source": [
        "import numpy as np\n",
        "a= np.array([[-5,0],[4,1]])\n",
        "b= np.array([[6,-3],[2,3]])\n",
        "print(b-a)"
      ],
      "execution_count": 15,
      "outputs": [
        {
          "output_type": "stream",
          "name": "stdout",
          "text": [
            "[[11 -3]\n",
            " [-2  2]]\n"
          ]
        }
      ]
    },
    {
      "cell_type": "markdown",
      "metadata": {
        "id": "w1HDxkAQ-Vyn"
      },
      "source": [
        "Difference of A and B (a-b)"
      ]
    },
    {
      "cell_type": "code",
      "metadata": {
        "colab": {
          "base_uri": "https://localhost:8080/"
        },
        "id": "WtCjJFGV91uf",
        "outputId": "c5555e32-280a-45c3-a55b-df9dd0e78ab3"
      },
      "source": [
        "import numpy as np\n",
        "a= np.array([[-5,0],[4,1]])\n",
        "b= np.array([[6,-3],[2,3]])\n",
        "print(a-b)"
      ],
      "execution_count": 16,
      "outputs": [
        {
          "output_type": "stream",
          "name": "stdout",
          "text": [
            "[[-11   3]\n",
            " [  2  -2]]\n"
          ]
        }
      ]
    }
  ]
}