{
  "nbformat": 4,
  "nbformat_minor": 0,
  "metadata": {
    "colab": {
      "name": "Python Activity 1.ipynb",
      "provenance": [],
      "toc_visible": true,
      "authorship_tag": "ABX9TyMfE0NBhZicFxSesSrWhlmd",
      "include_colab_link": true
    },
    "kernelspec": {
      "name": "python3",
      "display_name": "Python 3"
    },
    "language_info": {
      "name": "python"
    }
  },
  "cells": [
    {
      "cell_type": "markdown",
      "metadata": {
        "id": "view-in-github",
        "colab_type": "text"
      },
      "source": [
        "<a href=\"https://colab.research.google.com/github/Sev-RyanLeo/Linear-Algebra-58019/blob/main/Python_Activity_1.ipynb\" target=\"_parent\"><img src=\"https://colab.research.google.com/assets/colab-badge.svg\" alt=\"Open In Colab\"/></a>"
      ]
    },
    {
      "cell_type": "markdown",
      "metadata": {
        "id": "olUjbviu_Ipc"
      },
      "source": [
        "#Matrix and Its Operations"
      ]
    },
    {
      "cell_type": "markdown",
      "metadata": {
        "id": "NoIMAQ6v9F27"
      },
      "source": [
        "Array\n"
      ]
    },
    {
      "cell_type": "code",
      "metadata": {
        "colab": {
          "base_uri": "https://localhost:8080/"
        },
        "id": "RvHyex4H721r",
        "outputId": "b3833a32-b44a-4ab7-8b99-200e25f552bf"
      },
      "source": [
        "import numpy as np\n",
        "a= np.array([[-5,0],[4,1]])\n",
        "print(\"Matrix A \\n \\n\" ,a)\n",
        "b= np.array([[6,-3],[2,3]])\n",
        "print(\"\\n Matrix B \\n \\n\" ,b)\n",
        "print(\"\\nAddition of A and B \\n \\n\" ,a+b)\n",
        "print(\"\\nDifference of B and A (b-a) \\n \\n\", b-a)\n",
        "print(\"\\nDifference of A and B (a-b) \\n \\n\", a-b)"
      ],
      "execution_count": 29,
      "outputs": [
        {
          "output_type": "stream",
          "name": "stdout",
          "text": [
            "Matrix A \n",
            " \n",
            " [[-5  0]\n",
            " [ 4  1]]\n",
            "\n",
            " Matrix B \n",
            " \n",
            " [[ 6 -3]\n",
            " [ 2  3]]\n",
            "\n",
            "Addition of A and B \n",
            " \n",
            " [[ 1 -3]\n",
            " [ 6  4]]\n",
            "\n",
            "Difference of B and A (b-a) \n",
            " \n",
            " [[11 -3]\n",
            " [-2  2]]\n",
            "\n",
            "Difference of A and B (a-b) \n",
            " \n",
            " [[-11   3]\n",
            " [  2  -2]]\n"
          ]
        }
      ]
    }
  ]
}