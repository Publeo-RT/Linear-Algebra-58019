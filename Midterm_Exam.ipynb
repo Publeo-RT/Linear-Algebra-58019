{
  "nbformat": 4,
  "nbformat_minor": 0,
  "metadata": {
    "colab": {
      "name": "Midterm Exam.ipynb",
      "provenance": [],
      "authorship_tag": "ABX9TyOoDiIIKM5a/9gxpztJSZNl",
      "include_colab_link": true
    },
    "kernelspec": {
      "name": "python3",
      "display_name": "Python 3"
    },
    "language_info": {
      "name": "python"
    }
  },
  "cells": [
    {
      "cell_type": "markdown",
      "metadata": {
        "id": "view-in-github",
        "colab_type": "text"
      },
      "source": [
        "<a href=\"https://colab.research.google.com/github/Sev-RyanLeo/Linear-Algebra-58019/blob/main/Midterm_Exam.ipynb\" target=\"_parent\"><img src=\"https://colab.research.google.com/assets/colab-badge.svg\" alt=\"Open In Colab\"/></a>"
      ]
    },
    {
      "cell_type": "markdown",
      "metadata": {
        "id": "w7jsdaanGnBH"
      },
      "source": [
        "#Midterm Exam"
      ]
    },
    {
      "cell_type": "markdown",
      "metadata": {
        "id": "OXICPUVA7ZCN"
      },
      "source": [
        "Question 1. Create a Python code that displays a square matrix whose length is 5 (10 points)"
      ]
    },
    {
      "cell_type": "code",
      "metadata": {
        "colab": {
          "base_uri": "https://localhost:8080/"
        },
        "id": "vi-PR_-u5Q0O",
        "outputId": "be1778cd-941c-4310-bba3-cbf9a190aa36"
      },
      "source": [
        "import numpy as np                   #importing appropriate library to be used\n",
        "Q1=np.full((5,5),1)                  #creating an array with np.full syntax - (np.full((rows,columns)),filler)\n",
        "print(\"Square matrix with l=5 \\n\")   #printing label\n",
        "print(Q1)                            #printing of the array"
      ],
      "execution_count": 16,
      "outputs": [
        {
          "output_type": "stream",
          "name": "stdout",
          "text": [
            "Square matrix with l=5 \n",
            "\n",
            "[[1 1 1 1 1]\n",
            " [1 1 1 1 1]\n",
            " [1 1 1 1 1]\n",
            " [1 1 1 1 1]\n",
            " [1 1 1 1 1]]\n"
          ]
        }
      ]
    },
    {
      "cell_type": "markdown",
      "metadata": {
        "id": "RiUunxJI8ZZa"
      },
      "source": [
        "Question 2. Create a Python code that displays a square matrix whose elements below the principal diagonal are zero (10 points)\n",
        "\n"
      ]
    },
    {
      "cell_type": "code",
      "metadata": {
        "colab": {
          "base_uri": "https://localhost:8080/"
        },
        "id": "sSrIOnGF8b2G",
        "outputId": "d54609c2-1469-4bf1-c4ee-851b5702312f"
      },
      "source": [
        "import numpy as np     #importing appropriate library to be used\n",
        "Q2=np.eye(5)           #creating an array with np.eye syntax- np.eye(size)\n",
        "print(Q2)              #printing of the array"
      ],
      "execution_count": 4,
      "outputs": [
        {
          "output_type": "stream",
          "name": "stdout",
          "text": [
            "[[1. 0. 0. 0. 0.]\n",
            " [0. 1. 0. 0. 0.]\n",
            " [0. 0. 1. 0. 0.]\n",
            " [0. 0. 0. 1. 0.]\n",
            " [0. 0. 0. 0. 1.]]\n"
          ]
        }
      ]
    },
    {
      "cell_type": "markdown",
      "metadata": {
        "id": "M-JNv2aP9Lmb"
      },
      "source": [
        "Question 3. Create a Python code that displays a square matrix which is symmetrical (10 points)"
      ]
    },
    {
      "cell_type": "code",
      "metadata": {
        "colab": {
          "base_uri": "https://localhost:8080/"
        },
        "id": "RcFBUNdt9OmC",
        "outputId": "4c34adad-3d2e-4d9c-a926-71a1f1239122"
      },
      "source": [
        "import numpy as np                       #importing appropriate library to be used\n",
        "Q3=np.array([[1,2,3],[2,4,5],[3,5,8]])   #creating an array and values setting\n",
        "print(Q3)                                #printing array\n",
        "Q3trans=np.transpose(Q3)                 #checking if array is symmetric by transposing \n",
        "print(\"\\n when transposed \\n\",Q3trans)   #printing transposed array"
      ],
      "execution_count": 10,
      "outputs": [
        {
          "output_type": "stream",
          "name": "stdout",
          "text": [
            "[[1 2 3]\n",
            " [2 4 5]\n",
            " [3 5 8]]\n",
            "\n",
            " when transposed \n",
            " [[1 2 3]\n",
            " [2 4 5]\n",
            " [3 5 8]]\n"
          ]
        }
      ]
    },
    {
      "cell_type": "markdown",
      "metadata": {
        "id": "heJAsSIjABom"
      },
      "source": [
        "Question 4. What is the inverse of matrix C? Show your solution by python coding. (20 points)"
      ]
    },
    {
      "cell_type": "code",
      "metadata": {
        "colab": {
          "base_uri": "https://localhost:8080/"
        },
        "id": "Njd2RhSa-fyM",
        "outputId": "53969e77-61e6-4eab-d96e-895356c6a2e6"
      },
      "source": [
        "\n",
        "import numpy as np                       #importing appropriate library to be used\n",
        "Q4=np.array([[1,2,3],[2,3,3],[3,4,-2]])  #creating the array and values setting\n",
        "Q4inv=np.linalg.inv(Q4)                  #inversing value using np.linalg.inv syntax\n",
        "print(Q4inv)                             #printing of inversed array\n"
      ],
      "execution_count": 13,
      "outputs": [
        {
          "output_type": "stream",
          "name": "stdout",
          "text": [
            "[[-3.6  3.2 -0.6]\n",
            " [ 2.6 -2.2  0.6]\n",
            " [-0.2  0.4 -0.2]]\n"
          ]
        }
      ]
    },
    {
      "cell_type": "markdown",
      "metadata": {
        "id": "KBV9yPVLBLv-"
      },
      "source": [
        "Question 5. What is the determinant of the given matrix in Question 4? Show your solution by python coding. (20 points)"
      ]
    },
    {
      "cell_type": "code",
      "metadata": {
        "colab": {
          "base_uri": "https://localhost:8080/"
        },
        "id": "5KCwn1gzBzkO",
        "outputId": "fbc266f7-9351-4f76-ef79-cbc162163d94"
      },
      "source": [
        "import numpy as np                            #importing appropriate library to be used\n",
        "Q5=np.array([[1,2,3],[2,3,3],[3,4,-2]])       #creating the array and values setting\n",
        "print(Q5)                                     #printing array\n",
        "print(\"\\nThe determinant of the array :\")     #printing of label\n",
        "print(round(np.linalg.det(Q5)))               #getting and printing of determinant of array\n"
      ],
      "execution_count": 19,
      "outputs": [
        {
          "output_type": "stream",
          "name": "stdout",
          "text": [
            "[[ 1  2  3]\n",
            " [ 2  3  3]\n",
            " [ 3  4 -2]]\n",
            "\n",
            "The determinant of the array :\n",
            "5\n"
          ]
        }
      ]
    },
    {
      "cell_type": "markdown",
      "metadata": {
        "id": "HP96VQRdDRDx"
      },
      "source": [
        "Question 6. Find the roots of the linear equations by showing its python codes (30 points)\n",
        "\n",
        "5X1 + 4X2 + X3 = 3.4\n",
        "\n",
        "10X1 + 9X2 + 4X3 = 8.8\n",
        "\n",
        "10X1 + 13X2 + 15X3 = 19.2\n"
      ]
    },
    {
      "cell_type": "code",
      "metadata": {
        "colab": {
          "base_uri": "https://localhost:8080/"
        },
        "id": "4JMWZN26DS4x",
        "outputId": "4d5c1935-5542-48ee-cecc-f17712ecc2f4"
      },
      "source": [
        "import numpy as np                                #importing appropriate library to be used\n",
        "Q6=np.array([[5,4,1],[10,9,4],[10,13,15]])        #creating the array and values setting based on coeffecients\n",
        "print(Q6)                                         #printing of array\n",
        "Q6inv= np.linalg.inv(Q6)                          #inversing array values\n",
        "\n",
        "\n",
        "Q6B=np.array([[3.4],[8.8],[19.2]])                #creating the array and values setting based on constants\n",
        "print(Q6B)                                        #print array  \n",
        "Roots=np.linalg.inv(Q6).dot(Q6B)                  #getting roots through dot product of acquire values  \n",
        "print(\"\\n \\nValues of  x,y,z respectively\")       #printing label\n",
        "print(Roots)                                      #printing roots\n",
        "\n",
        "#to check if answer is correct\n",
        "Z=np.dot(Q6,Roots)                                #checking legitimacy of acquired values\n",
        "print(\"\\n Checking \\n\",Z)                         #printing validation proof\n"
      ],
      "execution_count": 20,
      "outputs": [
        {
          "output_type": "stream",
          "name": "stdout",
          "text": [
            "[[ 5  4  1]\n",
            " [10  9  4]\n",
            " [10 13 15]]\n",
            "[[ 3.4]\n",
            " [ 8.8]\n",
            " [19.2]]\n",
            "\n",
            " Values of  x,y,z respectively\n",
            "[[0.2]\n",
            " [0.4]\n",
            " [0.8]]\n",
            "\n",
            " Checking \n",
            " [[ 3.4]\n",
            " [ 8.8]\n",
            " [19.2]]\n"
          ]
        }
      ]
    }
  ]
}