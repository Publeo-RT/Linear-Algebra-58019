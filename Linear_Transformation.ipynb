{
  "nbformat": 4,
  "nbformat_minor": 0,
  "metadata": {
    "colab": {
      "name": "Linear Transformation",
      "provenance": [],
      "authorship_tag": "ABX9TyMdrJ+raUdIMg8owPWVpGI0",
      "include_colab_link": true
    },
    "kernelspec": {
      "name": "python3",
      "display_name": "Python 3"
    },
    "language_info": {
      "name": "python"
    }
  },
  "cells": [
    {
      "cell_type": "markdown",
      "metadata": {
        "id": "view-in-github",
        "colab_type": "text"
      },
      "source": [
        "<a href=\"https://colab.research.google.com/github/Sev-RyanLeo/Linear-Algebra-58019/blob/main/Linear_Transformation.ipynb\" target=\"_parent\"><img src=\"https://colab.research.google.com/assets/colab-badge.svg\" alt=\"Open In Colab\"/></a>"
      ]
    },
    {
      "cell_type": "markdown",
      "metadata": {
        "id": "Wl3CrnGqLPZP"
      },
      "source": [
        "Example"
      ]
    },
    {
      "cell_type": "code",
      "metadata": {
        "id": "EsyG04YkllEL",
        "colab": {
          "base_uri": "https://localhost:8080/"
        },
        "outputId": "0a50774b-6cc7-4d9e-cbf5-a6a84d071fd2"
      },
      "source": [
        "import numpy as np\n",
        "A=np.array([[4,3],[-5,9]])\n",
        "print(A)\n",
        "\n",
        "invA= np.linalg.inv(A)\n",
        "print(invA)\n",
        "\n",
        "\n",
        "B=np.array([[20],[26]])\n",
        "print(B)\n",
        "X=np.linalg.inv(A).dot(B)\n",
        "print(X)\n"
      ],
      "execution_count": null,
      "outputs": [
        {
          "output_type": "stream",
          "name": "stdout",
          "text": [
            "[[ 4  3]\n",
            " [-5  9]]\n",
            "[[ 0.17647059 -0.05882353]\n",
            " [ 0.09803922  0.07843137]]\n",
            "[[2.]\n",
            " [4.]]\n"
          ]
        }
      ]
    },
    {
      "cell_type": "code",
      "metadata": {
        "colab": {
          "base_uri": "https://localhost:8080/"
        },
        "id": "qBtT7XYmHWj0",
        "outputId": "9a6d99a1-88a5-42b2-e38d-3db73d82c129"
      },
      "source": [
        "dot=np.dot(invA,B)\n",
        "print(dot)"
      ],
      "execution_count": null,
      "outputs": [
        {
          "output_type": "stream",
          "name": "stdout",
          "text": [
            "[[2.]\n",
            " [4.]]\n"
          ]
        }
      ]
    },
    {
      "cell_type": "markdown",
      "metadata": {
        "id": "hQWIVmPSLUb8"
      },
      "source": [
        "Sample Problem\n",
        "\n",
        "4x+3y+2z=25\n",
        "\n",
        "-2x+2y+3z=-10\n",
        "\n",
        "3x-5y+2z=-4\n"
      ]
    },
    {
      "cell_type": "code",
      "metadata": {
        "colab": {
          "base_uri": "https://localhost:8080/"
        },
        "id": "ue7MrJm-JlBG",
        "outputId": "851a27ef-3615-4308-c68b-ed8e6f646025"
      },
      "source": [
        "import numpy as np\n",
        "A=np.array([[4,3,2],[-2,2,3],[3,-5,2]])\n",
        "print(A)\n",
        "\n",
        "invA= np.linalg.inv(A)\n",
        "print(invA)\n",
        "\n",
        "\n",
        "B=np.array([[25],[-10],[-4]])\n",
        "print(B)\n",
        "X=np.linalg.inv(A).dot(B)\n",
        "print(X)"
      ],
      "execution_count": null,
      "outputs": [
        {
          "output_type": "stream",
          "name": "stdout",
          "text": [
            "[[ 4  3  2]\n",
            " [-2  2  3]\n",
            " [ 3 -5  2]]\n",
            "[[ 0.15447154 -0.1300813   0.04065041]\n",
            " [ 0.10569106  0.01626016 -0.1300813 ]\n",
            " [ 0.03252033  0.23577236  0.11382114]]\n",
            "[[ 25]\n",
            " [-10]\n",
            " [ -4]]\n",
            "[[ 5.]\n",
            " [ 3.]\n",
            " [-2.]]\n"
          ]
        }
      ]
    },
    {
      "cell_type": "markdown",
      "metadata": {
        "id": "w8iBbSzMMHb1"
      },
      "source": [
        "Suppose a market seller sold 20 apple and 10 oranges in one day for a total of 350 pesos. The next day he sold 17 apple and 22 orange for 500 pesos. If the prices of the fruits remained unchanged on both of the days, what was the price of one apple and one orange?"
      ]
    },
    {
      "cell_type": "code",
      "metadata": {
        "colab": {
          "base_uri": "https://localhost:8080/"
        },
        "id": "jNhsQc75J082",
        "outputId": "c123d110-62e4-402e-d548-972103016314"
      },
      "source": [
        "A=np.array([[20,10],[17,22]])\n",
        "print(A)\n",
        "invA= np.linalg.inv(A)\n",
        "print(invA)\n",
        "\n",
        "B=np.array([[350],[500]])\n",
        "print(B)\n",
        "\n",
        "X=np.dot(invA,B)\n",
        "print(X)\n"
      ],
      "execution_count": null,
      "outputs": [
        {
          "output_type": "stream",
          "name": "stdout",
          "text": [
            "[[20 10]\n",
            " [17 22]]\n",
            "[[ 0.08148148 -0.03703704]\n",
            " [-0.06296296  0.07407407]]\n",
            "[[350]\n",
            " [500]]\n",
            "[[10.]\n",
            " [15.]]\n"
          ]
        }
      ]
    },
    {
      "cell_type": "markdown",
      "metadata": {
        "id": "4ToKoFzYNwEI"
      },
      "source": [
        "To check if the answer is correct"
      ]
    },
    {
      "cell_type": "code",
      "metadata": {
        "colab": {
          "base_uri": "https://localhost:8080/"
        },
        "id": "x0YRtdjHNzml",
        "outputId": "33ca3443-3180-4de5-d929-8e4f9495e864"
      },
      "source": [
        "Z=np.dot(A,X)\n",
        "print(Z)"
      ],
      "execution_count": null,
      "outputs": [
        {
          "output_type": "stream",
          "name": "stdout",
          "text": [
            "[[350.]\n",
            " [500.]]\n"
          ]
        }
      ]
    }
  ]
}