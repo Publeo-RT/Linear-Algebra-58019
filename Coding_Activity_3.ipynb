{
  "nbformat": 4,
  "nbformat_minor": 0,
  "metadata": {
    "colab": {
      "name": "Coding Activity 3",
      "provenance": [],
      "collapsed_sections": [],
      "authorship_tag": "ABX9TyOAzXQBg9p4x0h4DzDBmOAG",
      "include_colab_link": true
    },
    "kernelspec": {
      "name": "python3",
      "display_name": "Python 3"
    },
    "language_info": {
      "name": "python"
    }
  },
  "cells": [
    {
      "cell_type": "markdown",
      "metadata": {
        "id": "view-in-github",
        "colab_type": "text"
      },
      "source": [
        "<a href=\"https://colab.research.google.com/github/Sev-RyanLeo/Linear-Algebra-58019/blob/main/Coding_Activity_3.ipynb\" target=\"_parent\"><img src=\"https://colab.research.google.com/assets/colab-badge.svg\" alt=\"Open In Colab\"/></a>"
      ]
    },
    {
      "cell_type": "code",
      "metadata": {
        "colab": {
          "base_uri": "https://localhost:8080/"
        },
        "id": "2yZPSS7wQIvq",
        "outputId": "a96513ae-5536-438e-d59b-688707a45adb"
      },
      "source": [
        "import numpy as np\n",
        "A=np.array([[4,10,8],[10,26,26],[8,26,61]])\n",
        "print(A)\n",
        "invA= np.linalg.inv(A)\n",
        "print(invA)\n",
        "\n",
        "\n",
        "B=np.array([[44],[128],[214]])\n",
        "print(B)\n",
        "X=np.linalg.inv(A).dot(B)\n",
        "print(\"\\n Values of  x,y,z respectively\")\n",
        "print(X)\n",
        "\n",
        "#to check if answer is correct\n",
        "Z=np.dot(A,X)\n",
        "print(\"\\n Checking \\n\",Z)\n"
      ],
      "execution_count": null,
      "outputs": [
        {
          "output_type": "stream",
          "name": "stdout",
          "text": [
            "[[ 4 10  8]\n",
            " [10 26 26]\n",
            " [ 8 26 61]]\n",
            "[[ 25.27777778 -11.16666667   1.44444444]\n",
            " [-11.16666667   5.          -0.66666667]\n",
            " [  1.44444444  -0.66666667   0.11111111]]\n",
            "[[ 44]\n",
            " [128]\n",
            " [214]]\n",
            "\n",
            " Values of  x,y,z respectively\n",
            "[[-8.]\n",
            " [ 6.]\n",
            " [ 2.]]\n",
            "\n",
            " Checking \n",
            " [[ 44.]\n",
            " [128.]\n",
            " [214.]]\n"
          ]
        }
      ]
    }
  ]
}